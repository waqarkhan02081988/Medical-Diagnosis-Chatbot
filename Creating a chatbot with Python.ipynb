{
 "cells": [
  {
   "cell_type": "markdown",
   "metadata": {
    "deletable": false,
    "editable": false,
    "nbgrader": {
     "cell_type": "markdown",
     "checksum": "a4b30440043f818c41d8f2273c7d3517",
     "grade": false,
     "grade_id": "cell-d60c238a32fcc94c",
     "locked": true,
     "schema_version": 3,
     "solution": false,
     "task": false
    }
   },
   "source": [
    "# Activity: Creating a chatbot with Python\n",
    "You are developing an AI-powered medical diagnosis assistant chatbot within a Jupyter Notebook environment. This chatbot will use spaCy to analyze user symptoms and provide preliminary diagnoses and recommendations, simulating a realistic medical interaction.\n",
    "\n",
    "In this exercise, you will create the chatbot logic, define a knowledge base, and ensure the chatbot can effectively extract symptoms and provide appropriate advice, all within a Jupyter Notebook for automated assessment.\n",
    "\n",
    "## Tips for completing this lab\n",
    "As you navigate this lab, keep the following tips in mind:\n",
    "- `### YOUR CODE HERE ###` indicates where you should write code. Be sure to replace this with your own code before running the code cell.\n",
    "- You can save your work manually by clicking File and then Save in the menu bar at the top of the notebook.\n",
    "- You can download your work locally by clicking File and then Download and then specifying your preferred file format in the menu bar at the top of the notebook."
   ]
  },
  {
   "cell_type": "markdown",
   "metadata": {
    "deletable": false,
    "editable": false,
    "nbgrader": {
     "cell_type": "markdown",
     "checksum": "e5f531f8d8a70d7cf8e565ba2754736b",
     "grade": false,
     "grade_id": "cell-e41b9fb87169d54f",
     "locked": true,
     "schema_version": 3,
     "solution": false,
     "task": false
    }
   },
   "source": [
    "## Step 1: Set up environment\n",
    "To start a chatbot, you will need to ensure spaCy is installed and install a language model (in this case, the core spaCy English language model). You have decided to set this up as a Jupyter Notebook for the moment. \n",
    "\n",
    "First, verify installation of spaCy by running the cell labeled **Step 1a**:"
   ]
  },
  {
   "cell_type": "markdown",
   "metadata": {
    "deletable": false,
    "editable": false,
    "nbgrader": {
     "cell_type": "markdown",
     "checksum": "a6b4576dfd1e07efecd70ec44eba3490",
     "grade": false,
     "grade_id": "cell-ff6a5f78d9779074",
     "locked": true,
     "schema_version": 3,
     "solution": false,
     "task": false
    }
   },
   "source": [
    "### Step 1a\n",
    "This exercise uses a specific version of spaCy (3.7.2) intentionally to avoid conflicts."
   ]
  },
  {
   "cell_type": "code",
   "execution_count": 1,
   "metadata": {
    "deletable": false,
    "editable": false,
    "nbgrader": {
     "cell_type": "code",
     "checksum": "0653613a196b01ebc79b105c472d08b9",
     "grade": false,
     "grade_id": "cell-bf872ff2820b8eb5",
     "locked": true,
     "schema_version": 3,
     "solution": false,
     "task": false
    },
    "vscode": {
     "languageId": "shellscript"
    }
   },
   "outputs": [
    {
     "name": "stdout",
     "output_type": "stream",
     "text": [
      "\u001b[33mWARNING: The directory '/home/jovyan/.cache/pip' or its parent directory is not owned or is not writable by the current user. The cache has been disabled. Check the permissions and owner of that directory. If executing pip with sudo, you should use sudo's -H flag.\u001b[0m\u001b[33m\n",
      "\u001b[0mCollecting spacy==3.7.2\n",
      "  Downloading spacy-3.7.2-cp310-cp310-manylinux_2_17_x86_64.manylinux2014_x86_64.whl.metadata (25 kB)\n",
      "Collecting spacy-legacy<3.1.0,>=3.0.11 (from spacy==3.7.2)\n",
      "  Downloading spacy_legacy-3.0.12-py2.py3-none-any.whl.metadata (2.8 kB)\n",
      "Collecting spacy-loggers<2.0.0,>=1.0.0 (from spacy==3.7.2)\n",
      "  Downloading spacy_loggers-1.0.5-py3-none-any.whl.metadata (23 kB)\n",
      "Collecting murmurhash<1.1.0,>=0.28.0 (from spacy==3.7.2)\n",
      "  Downloading murmurhash-1.0.13-cp310-cp310-manylinux_2_5_x86_64.manylinux1_x86_64.manylinux_2_17_x86_64.manylinux2014_x86_64.whl.metadata (2.2 kB)\n",
      "Collecting cymem<2.1.0,>=2.0.2 (from spacy==3.7.2)\n",
      "  Downloading cymem-2.0.11-cp310-cp310-manylinux_2_17_x86_64.manylinux2014_x86_64.whl.metadata (8.5 kB)\n",
      "Collecting preshed<3.1.0,>=3.0.2 (from spacy==3.7.2)\n",
      "  Downloading preshed-3.0.10-cp310-cp310-manylinux_2_5_x86_64.manylinux1_x86_64.manylinux_2_17_x86_64.manylinux2014_x86_64.whl.metadata (2.4 kB)\n",
      "Collecting thinc<8.3.0,>=8.1.8 (from spacy==3.7.2)\n",
      "  Downloading thinc-8.2.5-cp310-cp310-manylinux_2_17_x86_64.manylinux2014_x86_64.whl.metadata (15 kB)\n",
      "Collecting wasabi<1.2.0,>=0.9.1 (from spacy==3.7.2)\n",
      "  Downloading wasabi-1.1.3-py3-none-any.whl.metadata (28 kB)\n",
      "Collecting srsly<3.0.0,>=2.4.3 (from spacy==3.7.2)\n",
      "  Downloading srsly-2.5.1-cp310-cp310-manylinux_2_17_x86_64.manylinux2014_x86_64.whl.metadata (19 kB)\n",
      "Collecting catalogue<2.1.0,>=2.0.6 (from spacy==3.7.2)\n",
      "  Downloading catalogue-2.0.10-py3-none-any.whl.metadata (14 kB)\n",
      "Collecting weasel<0.4.0,>=0.1.0 (from spacy==3.7.2)\n",
      "  Downloading weasel-0.3.4-py3-none-any.whl.metadata (4.7 kB)\n",
      "Collecting typer<0.10.0,>=0.3.0 (from spacy==3.7.2)\n",
      "  Downloading typer-0.9.4-py3-none-any.whl.metadata (14 kB)\n",
      "Collecting smart-open<7.0.0,>=5.2.1 (from spacy==3.7.2)\n",
      "  Downloading smart_open-6.4.0-py3-none-any.whl.metadata (21 kB)\n",
      "Requirement already satisfied: tqdm<5.0.0,>=4.38.0 in /opt/conda/lib/python3.10/site-packages (from spacy==3.7.2) (4.64.1)\n",
      "Requirement already satisfied: requests<3.0.0,>=2.13.0 in /opt/conda/lib/python3.10/site-packages (from spacy==3.7.2) (2.28.1)\n",
      "Collecting pydantic!=1.8,!=1.8.1,<3.0.0,>=1.7.4 (from spacy==3.7.2)\n",
      "  Downloading pydantic-2.11.9-py3-none-any.whl.metadata (68 kB)\n",
      "Requirement already satisfied: jinja2 in /opt/conda/lib/python3.10/site-packages (from spacy==3.7.2) (3.1.2)\n",
      "Requirement already satisfied: setuptools in /opt/conda/lib/python3.10/site-packages (from spacy==3.7.2) (65.5.1)\n",
      "Requirement already satisfied: packaging>=20.0 in /opt/conda/lib/python3.10/site-packages (from spacy==3.7.2) (21.3)\n",
      "Collecting langcodes<4.0.0,>=3.2.0 (from spacy==3.7.2)\n",
      "  Downloading langcodes-3.5.0-py3-none-any.whl.metadata (29 kB)\n",
      "Requirement already satisfied: numpy>=1.19.0 in /opt/conda/lib/python3.10/site-packages (from spacy==3.7.2) (1.23.5)\n",
      "Collecting language-data>=1.2 (from langcodes<4.0.0,>=3.2.0->spacy==3.7.2)\n",
      "  Downloading language_data-1.3.0-py3-none-any.whl.metadata (4.3 kB)\n",
      "Requirement already satisfied: pyparsing!=3.0.5,>=2.0.2 in /opt/conda/lib/python3.10/site-packages (from packaging>=20.0->spacy==3.7.2) (3.0.9)\n",
      "Collecting annotated-types>=0.6.0 (from pydantic!=1.8,!=1.8.1,<3.0.0,>=1.7.4->spacy==3.7.2)\n",
      "  Downloading annotated_types-0.7.0-py3-none-any.whl.metadata (15 kB)\n",
      "Collecting pydantic-core==2.33.2 (from pydantic!=1.8,!=1.8.1,<3.0.0,>=1.7.4->spacy==3.7.2)\n",
      "  Downloading pydantic_core-2.33.2-cp310-cp310-manylinux_2_17_x86_64.manylinux2014_x86_64.whl.metadata (6.8 kB)\n",
      "Collecting typing-extensions>=4.12.2 (from pydantic!=1.8,!=1.8.1,<3.0.0,>=1.7.4->spacy==3.7.2)\n",
      "  Downloading typing_extensions-4.15.0-py3-none-any.whl.metadata (3.3 kB)\n",
      "Collecting typing-inspection>=0.4.0 (from pydantic!=1.8,!=1.8.1,<3.0.0,>=1.7.4->spacy==3.7.2)\n",
      "  Downloading typing_inspection-0.4.2-py3-none-any.whl.metadata (2.6 kB)\n",
      "Requirement already satisfied: charset-normalizer<3,>=2 in /opt/conda/lib/python3.10/site-packages (from requests<3.0.0,>=2.13.0->spacy==3.7.2) (2.1.1)\n",
      "Requirement already satisfied: idna<4,>=2.5 in /opt/conda/lib/python3.10/site-packages (from requests<3.0.0,>=2.13.0->spacy==3.7.2) (3.4)\n",
      "Requirement already satisfied: urllib3<1.27,>=1.21.1 in /opt/conda/lib/python3.10/site-packages (from requests<3.0.0,>=2.13.0->spacy==3.7.2) (1.26.11)\n",
      "Requirement already satisfied: certifi>=2017.4.17 in /opt/conda/lib/python3.10/site-packages (from requests<3.0.0,>=2.13.0->spacy==3.7.2) (2022.9.24)\n",
      "Collecting blis<0.8.0,>=0.7.8 (from thinc<8.3.0,>=8.1.8->spacy==3.7.2)\n",
      "  Downloading blis-0.7.11-cp310-cp310-manylinux_2_17_x86_64.manylinux2014_x86_64.whl.metadata (7.4 kB)\n",
      "Collecting confection<1.0.0,>=0.0.1 (from thinc<8.3.0,>=8.1.8->spacy==3.7.2)\n",
      "  Downloading confection-0.1.5-py3-none-any.whl.metadata (19 kB)\n",
      "Requirement already satisfied: click<9.0.0,>=7.1.1 in /opt/conda/lib/python3.10/site-packages (from typer<0.10.0,>=0.3.0->spacy==3.7.2) (8.1.3)\n",
      "Collecting cloudpathlib<0.17.0,>=0.7.0 (from weasel<0.4.0,>=0.1.0->spacy==3.7.2)\n",
      "  Downloading cloudpathlib-0.16.0-py3-none-any.whl.metadata (14 kB)\n",
      "Requirement already satisfied: MarkupSafe>=2.0 in /opt/conda/lib/python3.10/site-packages (from jinja2->spacy==3.7.2) (2.1.1)\n",
      "Collecting marisa-trie>=1.1.0 (from language-data>=1.2->langcodes<4.0.0,>=3.2.0->spacy==3.7.2)\n",
      "  Downloading marisa_trie-1.3.1-cp310-cp310-manylinux_2_24_x86_64.manylinux_2_28_x86_64.whl.metadata (10 kB)\n",
      "Downloading spacy-3.7.2-cp310-cp310-manylinux_2_17_x86_64.manylinux2014_x86_64.whl (6.6 MB)\n",
      "\u001b[2K   \u001b[90m━━━━━━━━━━━━━━━━━━━━━━━━━━━━━━━━━━━━━━━━\u001b[0m \u001b[32m6.6/6.6 MB\u001b[0m \u001b[31m235.5 MB/s\u001b[0m eta \u001b[36m0:00:00\u001b[0m\n",
      "\u001b[?25hDownloading catalogue-2.0.10-py3-none-any.whl (17 kB)\n",
      "Downloading cymem-2.0.11-cp310-cp310-manylinux_2_17_x86_64.manylinux2014_x86_64.whl (204 kB)\n",
      "Downloading langcodes-3.5.0-py3-none-any.whl (182 kB)\n",
      "Downloading murmurhash-1.0.13-cp310-cp310-manylinux_2_5_x86_64.manylinux1_x86_64.manylinux_2_17_x86_64.manylinux2014_x86_64.whl (117 kB)\n",
      "Downloading preshed-3.0.10-cp310-cp310-manylinux_2_5_x86_64.manylinux1_x86_64.manylinux_2_17_x86_64.manylinux2014_x86_64.whl (795 kB)\n",
      "\u001b[2K   \u001b[90m━━━━━━━━━━━━━━━━━━━━━━━━━━━━━━━━━━━━━━━\u001b[0m \u001b[32m795.1/795.1 kB\u001b[0m \u001b[31m814.8 MB/s\u001b[0m eta \u001b[36m0:00:00\u001b[0m\n",
      "\u001b[?25hDownloading pydantic-2.11.9-py3-none-any.whl (444 kB)\n",
      "Downloading pydantic_core-2.33.2-cp310-cp310-manylinux_2_17_x86_64.manylinux2014_x86_64.whl (2.0 MB)\n",
      "\u001b[2K   \u001b[90m━━━━━━━━━━━━━━━━━━━━━━━━━━━━━━━━━━━━━━━━\u001b[0m \u001b[32m2.0/2.0 MB\u001b[0m \u001b[31m751.8 MB/s\u001b[0m eta \u001b[36m0:00:00\u001b[0m\n",
      "\u001b[?25hDownloading smart_open-6.4.0-py3-none-any.whl (57 kB)\n",
      "Downloading spacy_legacy-3.0.12-py2.py3-none-any.whl (29 kB)\n",
      "Downloading spacy_loggers-1.0.5-py3-none-any.whl (22 kB)\n",
      "Downloading srsly-2.5.1-cp310-cp310-manylinux_2_17_x86_64.manylinux2014_x86_64.whl (1.1 MB)\n",
      "\u001b[2K   \u001b[90m━━━━━━━━━━━━━━━━━━━━━━━━━━━━━━━━━━━━━━━━\u001b[0m \u001b[32m1.1/1.1 MB\u001b[0m \u001b[31m162.7 MB/s\u001b[0m eta \u001b[36m0:00:00\u001b[0m\n",
      "\u001b[?25hDownloading thinc-8.2.5-cp310-cp310-manylinux_2_17_x86_64.manylinux2014_x86_64.whl (922 kB)\n",
      "\u001b[2K   \u001b[90m━━━━━━━━━━━━━━━━━━━━━━━━━━━━━━━━━━━━━━━\u001b[0m \u001b[32m922.4/922.4 kB\u001b[0m \u001b[31m388.3 MB/s\u001b[0m eta \u001b[36m0:00:00\u001b[0m\n",
      "\u001b[?25hDownloading typer-0.9.4-py3-none-any.whl (45 kB)\n",
      "Downloading wasabi-1.1.3-py3-none-any.whl (27 kB)\n",
      "Downloading weasel-0.3.4-py3-none-any.whl (50 kB)\n",
      "Downloading annotated_types-0.7.0-py3-none-any.whl (13 kB)\n",
      "Downloading blis-0.7.11-cp310-cp310-manylinux_2_17_x86_64.manylinux2014_x86_64.whl (10.2 MB)\n",
      "\u001b[2K   \u001b[90m━━━━━━━━━━━━━━━━━━━━━━━━━━━━━━━━━━━━━━━━\u001b[0m \u001b[32m10.2/10.2 MB\u001b[0m \u001b[31m226.4 MB/s\u001b[0m eta \u001b[36m0:00:00\u001b[0m\n",
      "\u001b[?25hDownloading cloudpathlib-0.16.0-py3-none-any.whl (45 kB)\n",
      "Downloading confection-0.1.5-py3-none-any.whl (35 kB)\n",
      "Downloading language_data-1.3.0-py3-none-any.whl (5.4 MB)\n",
      "\u001b[2K   \u001b[90m━━━━━━━━━━━━━━━━━━━━━━━━━━━━━━━━━━━━━━━━\u001b[0m \u001b[32m5.4/5.4 MB\u001b[0m \u001b[31m524.1 MB/s\u001b[0m eta \u001b[36m0:00:00\u001b[0m\n",
      "\u001b[?25hDownloading typing_extensions-4.15.0-py3-none-any.whl (44 kB)\n",
      "Downloading typing_inspection-0.4.2-py3-none-any.whl (14 kB)\n",
      "Downloading marisa_trie-1.3.1-cp310-cp310-manylinux_2_24_x86_64.manylinux_2_28_x86_64.whl (1.2 MB)\n",
      "\u001b[2K   \u001b[90m━━━━━━━━━━━━━━━━━━━━━━━━━━━━━━━━━━━━━━━━\u001b[0m \u001b[32m1.2/1.2 MB\u001b[0m \u001b[31m71.0 MB/s\u001b[0m eta \u001b[36m0:00:00\u001b[0m\n",
      "\u001b[?25hInstalling collected packages: cymem, wasabi, typing-extensions, spacy-loggers, spacy-legacy, smart-open, murmurhash, marisa-trie, catalogue, blis, annotated-types, typing-inspection, typer, srsly, pydantic-core, preshed, language-data, cloudpathlib, pydantic, langcodes, confection, weasel, thinc, spacy\n",
      "  Attempting uninstall: typing-extensions\n",
      "    Found existing installation: typing_extensions 4.4.0\n",
      "    Uninstalling typing_extensions-4.4.0:\n",
      "      Successfully uninstalled typing_extensions-4.4.0\n",
      "Successfully installed annotated-types-0.7.0 blis-0.7.11 catalogue-2.0.10 cloudpathlib-0.16.0 confection-0.1.5 cymem-2.0.11 langcodes-3.5.0 language-data-1.3.0 marisa-trie-1.3.1 murmurhash-1.0.13 preshed-3.0.10 pydantic-2.11.9 pydantic-core-2.33.2 smart-open-6.4.0 spacy-3.7.2 spacy-legacy-3.0.12 spacy-loggers-1.0.5 srsly-2.5.1 thinc-8.2.5 typer-0.9.4 typing-extensions-4.15.0 typing-inspection-0.4.2 wasabi-1.1.3 weasel-0.3.4\n",
      "\u001b[33mWARNING: Running pip as the 'root' user can result in broken permissions and conflicting behaviour with the system package manager, possibly rendering your system unusable.It is recommended to use a virtual environment instead: https://pip.pypa.io/warnings/venv. Use the --root-user-action option if you know what you are doing and want to suppress this warning.\u001b[0m\u001b[33m\n",
      "\u001b[0m\n",
      "\u001b[1m[\u001b[0m\u001b[34;49mnotice\u001b[0m\u001b[1;39;49m]\u001b[0m\u001b[39;49m A new release of pip is available: \u001b[0m\u001b[31;49m24.2\u001b[0m\u001b[39;49m -> \u001b[0m\u001b[32;49m25.2\u001b[0m\n",
      "\u001b[1m[\u001b[0m\u001b[34;49mnotice\u001b[0m\u001b[1;39;49m]\u001b[0m\u001b[39;49m To update, run: \u001b[0m\u001b[32;49mpip install --upgrade pip\u001b[0m\n",
      "Note: you may need to restart the kernel to use updated packages.\n"
     ]
    }
   ],
   "source": [
    "pip install spacy==3.7.2"
   ]
  },
  {
   "cell_type": "markdown",
   "metadata": {
    "deletable": false,
    "editable": false,
    "nbgrader": {
     "cell_type": "markdown",
     "checksum": "fadd9b13cde6767fca575bf96a81c0a5",
     "grade": false,
     "grade_id": "cell-94cf41387c1da7ed",
     "locked": true,
     "schema_version": 3,
     "solution": false,
     "task": false
    }
   },
   "source": [
    "Once you run this cell, you may be prompted to reload the notebook. This will only need to be done one time on the machine."
   ]
  },
  {
   "cell_type": "markdown",
   "metadata": {
    "deletable": false,
    "editable": false,
    "nbgrader": {
     "cell_type": "markdown",
     "checksum": "1b7009eb09c8700df955636f432c0aee",
     "grade": false,
     "grade_id": "cell-151ccf8deab16a80",
     "locked": true,
     "schema_version": 3,
     "solution": false,
     "task": false
    }
   },
   "source": [
    "Once the installation is complete/verified, install the English language model. Inside of the notebook, the process to install spaCy's languages is different from doing it from the command line. \n",
    "\n",
    "Run the cell labeled **Step 1b**."
   ]
  },
  {
   "cell_type": "markdown",
   "metadata": {
    "deletable": false,
    "editable": false,
    "nbgrader": {
     "cell_type": "markdown",
     "checksum": "df611eb78e969904c14fd1f75265df93",
     "grade": false,
     "grade_id": "cell-d0e0ee23fbbf144a",
     "locked": true,
     "schema_version": 3,
     "solution": false,
     "task": false
    }
   },
   "source": [
    "### Step 1b: Install and load core English spaCy model"
   ]
  },
  {
   "cell_type": "code",
   "execution_count": 2,
   "metadata": {
    "deletable": false,
    "editable": false,
    "nbgrader": {
     "cell_type": "code",
     "checksum": "befaaf8d577e0583b6f3a38f9415349b",
     "grade": false,
     "grade_id": "cell-207afedf49592b4a",
     "locked": true,
     "schema_version": 3,
     "solution": false,
     "task": false
    }
   },
   "outputs": [
    {
     "name": "stderr",
     "output_type": "stream",
     "text": [
      "WARNING: The directory '/home/jovyan/.cache/pip' or its parent directory is not owned or is not writable by the current user. The cache has been disabled. Check the permissions and owner of that directory. If executing pip with sudo, you should use sudo's -H flag.\n"
     ]
    },
    {
     "name": "stdout",
     "output_type": "stream",
     "text": [
      "Collecting en-core-web-sm==3.7.1\n",
      "  Downloading https://github.com/explosion/spacy-models/releases/download/en_core_web_sm-3.7.1/en_core_web_sm-3.7.1-py3-none-any.whl (12.8 MB)\n",
      "     ━━━━━━━━━━━━━━━━━━━━━━━━━━━━━━━━━━━━━━━ 12.8/12.8 MB 199.2 MB/s eta 0:00:00\n",
      "Requirement already satisfied: spacy<3.8.0,>=3.7.2 in /opt/conda/lib/python3.10/site-packages (from en-core-web-sm==3.7.1) (3.7.2)\n",
      "Requirement already satisfied: spacy-legacy<3.1.0,>=3.0.11 in /opt/conda/lib/python3.10/site-packages (from spacy<3.8.0,>=3.7.2->en-core-web-sm==3.7.1) (3.0.12)\n",
      "Requirement already satisfied: spacy-loggers<2.0.0,>=1.0.0 in /opt/conda/lib/python3.10/site-packages (from spacy<3.8.0,>=3.7.2->en-core-web-sm==3.7.1) (1.0.5)\n",
      "Requirement already satisfied: murmurhash<1.1.0,>=0.28.0 in /opt/conda/lib/python3.10/site-packages (from spacy<3.8.0,>=3.7.2->en-core-web-sm==3.7.1) (1.0.13)\n",
      "Requirement already satisfied: cymem<2.1.0,>=2.0.2 in /opt/conda/lib/python3.10/site-packages (from spacy<3.8.0,>=3.7.2->en-core-web-sm==3.7.1) (2.0.11)\n",
      "Requirement already satisfied: preshed<3.1.0,>=3.0.2 in /opt/conda/lib/python3.10/site-packages (from spacy<3.8.0,>=3.7.2->en-core-web-sm==3.7.1) (3.0.10)\n",
      "Requirement already satisfied: thinc<8.3.0,>=8.1.8 in /opt/conda/lib/python3.10/site-packages (from spacy<3.8.0,>=3.7.2->en-core-web-sm==3.7.1) (8.2.5)\n",
      "Requirement already satisfied: wasabi<1.2.0,>=0.9.1 in /opt/conda/lib/python3.10/site-packages (from spacy<3.8.0,>=3.7.2->en-core-web-sm==3.7.1) (1.1.3)\n",
      "Requirement already satisfied: srsly<3.0.0,>=2.4.3 in /opt/conda/lib/python3.10/site-packages (from spacy<3.8.0,>=3.7.2->en-core-web-sm==3.7.1) (2.5.1)\n",
      "Requirement already satisfied: catalogue<2.1.0,>=2.0.6 in /opt/conda/lib/python3.10/site-packages (from spacy<3.8.0,>=3.7.2->en-core-web-sm==3.7.1) (2.0.10)\n",
      "Requirement already satisfied: weasel<0.4.0,>=0.1.0 in /opt/conda/lib/python3.10/site-packages (from spacy<3.8.0,>=3.7.2->en-core-web-sm==3.7.1) (0.3.4)\n",
      "Requirement already satisfied: typer<0.10.0,>=0.3.0 in /opt/conda/lib/python3.10/site-packages (from spacy<3.8.0,>=3.7.2->en-core-web-sm==3.7.1) (0.9.4)\n",
      "Requirement already satisfied: smart-open<7.0.0,>=5.2.1 in /opt/conda/lib/python3.10/site-packages (from spacy<3.8.0,>=3.7.2->en-core-web-sm==3.7.1) (6.4.0)\n",
      "Requirement already satisfied: tqdm<5.0.0,>=4.38.0 in /opt/conda/lib/python3.10/site-packages (from spacy<3.8.0,>=3.7.2->en-core-web-sm==3.7.1) (4.64.1)\n",
      "Requirement already satisfied: requests<3.0.0,>=2.13.0 in /opt/conda/lib/python3.10/site-packages (from spacy<3.8.0,>=3.7.2->en-core-web-sm==3.7.1) (2.28.1)\n",
      "Requirement already satisfied: pydantic!=1.8,!=1.8.1,<3.0.0,>=1.7.4 in /opt/conda/lib/python3.10/site-packages (from spacy<3.8.0,>=3.7.2->en-core-web-sm==3.7.1) (2.11.9)\n",
      "Requirement already satisfied: jinja2 in /opt/conda/lib/python3.10/site-packages (from spacy<3.8.0,>=3.7.2->en-core-web-sm==3.7.1) (3.1.2)\n",
      "Requirement already satisfied: setuptools in /opt/conda/lib/python3.10/site-packages (from spacy<3.8.0,>=3.7.2->en-core-web-sm==3.7.1) (65.5.1)\n",
      "Requirement already satisfied: packaging>=20.0 in /opt/conda/lib/python3.10/site-packages (from spacy<3.8.0,>=3.7.2->en-core-web-sm==3.7.1) (21.3)\n",
      "Requirement already satisfied: langcodes<4.0.0,>=3.2.0 in /opt/conda/lib/python3.10/site-packages (from spacy<3.8.0,>=3.7.2->en-core-web-sm==3.7.1) (3.5.0)\n",
      "Requirement already satisfied: numpy>=1.19.0 in /opt/conda/lib/python3.10/site-packages (from spacy<3.8.0,>=3.7.2->en-core-web-sm==3.7.1) (1.23.5)\n",
      "Requirement already satisfied: language-data>=1.2 in /opt/conda/lib/python3.10/site-packages (from langcodes<4.0.0,>=3.2.0->spacy<3.8.0,>=3.7.2->en-core-web-sm==3.7.1) (1.3.0)\n",
      "Requirement already satisfied: pyparsing!=3.0.5,>=2.0.2 in /opt/conda/lib/python3.10/site-packages (from packaging>=20.0->spacy<3.8.0,>=3.7.2->en-core-web-sm==3.7.1) (3.0.9)\n",
      "Requirement already satisfied: annotated-types>=0.6.0 in /opt/conda/lib/python3.10/site-packages (from pydantic!=1.8,!=1.8.1,<3.0.0,>=1.7.4->spacy<3.8.0,>=3.7.2->en-core-web-sm==3.7.1) (0.7.0)\n",
      "Requirement already satisfied: pydantic-core==2.33.2 in /opt/conda/lib/python3.10/site-packages (from pydantic!=1.8,!=1.8.1,<3.0.0,>=1.7.4->spacy<3.8.0,>=3.7.2->en-core-web-sm==3.7.1) (2.33.2)\n",
      "Requirement already satisfied: typing-extensions>=4.12.2 in /opt/conda/lib/python3.10/site-packages (from pydantic!=1.8,!=1.8.1,<3.0.0,>=1.7.4->spacy<3.8.0,>=3.7.2->en-core-web-sm==3.7.1) (4.15.0)\n",
      "Requirement already satisfied: typing-inspection>=0.4.0 in /opt/conda/lib/python3.10/site-packages (from pydantic!=1.8,!=1.8.1,<3.0.0,>=1.7.4->spacy<3.8.0,>=3.7.2->en-core-web-sm==3.7.1) (0.4.2)\n",
      "Requirement already satisfied: charset-normalizer<3,>=2 in /opt/conda/lib/python3.10/site-packages (from requests<3.0.0,>=2.13.0->spacy<3.8.0,>=3.7.2->en-core-web-sm==3.7.1) (2.1.1)\n",
      "Requirement already satisfied: idna<4,>=2.5 in /opt/conda/lib/python3.10/site-packages (from requests<3.0.0,>=2.13.0->spacy<3.8.0,>=3.7.2->en-core-web-sm==3.7.1) (3.4)\n",
      "Requirement already satisfied: urllib3<1.27,>=1.21.1 in /opt/conda/lib/python3.10/site-packages (from requests<3.0.0,>=2.13.0->spacy<3.8.0,>=3.7.2->en-core-web-sm==3.7.1) (1.26.11)\n",
      "Requirement already satisfied: certifi>=2017.4.17 in /opt/conda/lib/python3.10/site-packages (from requests<3.0.0,>=2.13.0->spacy<3.8.0,>=3.7.2->en-core-web-sm==3.7.1) (2022.9.24)\n",
      "Requirement already satisfied: blis<0.8.0,>=0.7.8 in /opt/conda/lib/python3.10/site-packages (from thinc<8.3.0,>=8.1.8->spacy<3.8.0,>=3.7.2->en-core-web-sm==3.7.1) (0.7.11)\n",
      "Requirement already satisfied: confection<1.0.0,>=0.0.1 in /opt/conda/lib/python3.10/site-packages (from thinc<8.3.0,>=8.1.8->spacy<3.8.0,>=3.7.2->en-core-web-sm==3.7.1) (0.1.5)\n",
      "Requirement already satisfied: click<9.0.0,>=7.1.1 in /opt/conda/lib/python3.10/site-packages (from typer<0.10.0,>=0.3.0->spacy<3.8.0,>=3.7.2->en-core-web-sm==3.7.1) (8.1.3)\n",
      "Requirement already satisfied: cloudpathlib<0.17.0,>=0.7.0 in /opt/conda/lib/python3.10/site-packages (from weasel<0.4.0,>=0.1.0->spacy<3.8.0,>=3.7.2->en-core-web-sm==3.7.1) (0.16.0)\n",
      "Requirement already satisfied: MarkupSafe>=2.0 in /opt/conda/lib/python3.10/site-packages (from jinja2->spacy<3.8.0,>=3.7.2->en-core-web-sm==3.7.1) (2.1.1)\n",
      "Requirement already satisfied: marisa-trie>=1.1.0 in /opt/conda/lib/python3.10/site-packages (from language-data>=1.2->langcodes<4.0.0,>=3.2.0->spacy<3.8.0,>=3.7.2->en-core-web-sm==3.7.1) (1.3.1)\n",
      "Installing collected packages: en-core-web-sm\n",
      "Successfully installed en-core-web-sm-3.7.1\n"
     ]
    },
    {
     "name": "stderr",
     "output_type": "stream",
     "text": [
      "WARNING: Running pip as the 'root' user can result in broken permissions and conflicting behaviour with the system package manager, possibly rendering your system unusable.It is recommended to use a virtual environment instead: https://pip.pypa.io/warnings/venv. Use the --root-user-action option if you know what you are doing and want to suppress this warning.\n",
      "\n",
      "[notice] A new release of pip is available: 24.2 -> 25.2\n",
      "[notice] To update, run: pip install --upgrade pip\n"
     ]
    },
    {
     "name": "stdout",
     "output_type": "stream",
     "text": [
      "\u001b[38;5;2m✔ Download and installation successful\u001b[0m\n",
      "You can now load the package via spacy.load('en_core_web_sm')\n"
     ]
    }
   ],
   "source": [
    "import spacy\n",
    "\n",
    "spacy.cli.download('en_core_web_sm')"
   ]
  },
  {
   "cell_type": "markdown",
   "metadata": {
    "deletable": false,
    "editable": false,
    "nbgrader": {
     "cell_type": "markdown",
     "checksum": "8e1acfb912243c4af45ebe93e67d95e8",
     "grade": false,
     "grade_id": "cell-f76b4da2bfb4e587",
     "locked": true,
     "schema_version": 3,
     "solution": false,
     "task": false
    }
   },
   "source": [
    "Once you run this cell, you may be prompted to reload the notebook. This will only need to be done one time on the machine."
   ]
  },
  {
   "cell_type": "markdown",
   "metadata": {
    "deletable": false,
    "editable": false,
    "nbgrader": {
     "cell_type": "markdown",
     "checksum": "856ca21f53c4146a226b27aabc457649",
     "grade": false,
     "grade_id": "cell-98f115a012e2f980",
     "locked": true,
     "schema_version": 3,
     "solution": false,
     "task": false
    }
   },
   "source": [
    "## Step 2: Load the medical knowledge base\n",
    "You'll be provided with a medical knowledge base in a JSON file named `medical_data.json`. This file contains information about various symptoms, potential medical conditions, and general recommendations. Your chatbot will use this knowledge base to understand user input and provide helpful responses.\n",
    "\n",
    "Instructions:\n",
    " - **Examine the structure:** Carefully review the structure of the medical_data.json file. Notice how the data is organized into dictionaries and lists. Pay attention to the keys and values used to represent symptoms, conditions, and recommendations. \n",
    " - **Understand the content:** Familiarize yourself with the symptoms, conditions, and recommendations included in the knowledge base. This will help you understand the scope of your chatbot's potential diagnoses and advice.\n",
    " - **Consider limitations:** Think about the limitations of this knowledge base. What types of medical conditions or scenarios might not be covered? How can your chatbot handle situations where the user's symptoms don't have a clear match in the data?\n",
    " \n",
    "Run the cell labeled **Step 2.1** to create the knowledge base."
   ]
  },
  {
   "cell_type": "markdown",
   "metadata": {
    "deletable": false,
    "editable": false,
    "nbgrader": {
     "cell_type": "markdown",
     "checksum": "ed142795fa5eafa0cbf8ea92e5c5094b",
     "grade": false,
     "grade_id": "cell-33621b88e2f1310f",
     "locked": true,
     "schema_version": 3,
     "solution": false,
     "task": false
    }
   },
   "source": [
    "### Step 2.1: Populate JSON knowledge base"
   ]
  },
  {
   "cell_type": "code",
   "execution_count": 3,
   "metadata": {
    "deletable": false,
    "editable": false,
    "nbgrader": {
     "cell_type": "code",
     "checksum": "1fa4cd036338af85c9e9a6a930395789",
     "grade": false,
     "grade_id": "cell-387ca21cf5ad8eec",
     "locked": true,
     "schema_version": 3,
     "solution": false,
     "task": false
    }
   },
   "outputs": [
    {
     "name": "stdout",
     "output_type": "stream",
     "text": [
      "JSON data saved to medical_data.json\n"
     ]
    }
   ],
   "source": [
    "import json\n",
    "\n",
    "def generate_json_file(data, filename):\n",
    "    try:\n",
    "        with open(filename, 'w') as f:\n",
    "            json.dump(data, f, indent=4)  # indent=4 for pretty printing (optional)\n",
    "        print(f\"JSON data saved to {filename}\")\n",
    "    except Exception as e:\n",
    "        print(f\"Error saving JSON data: {e}\")\n",
    "\n",
    "medical_data = {\n",
    "  \"symptoms\": {\n",
    "    \"headache\": [\"common cold\", \"flu\", \"migraine\", \"tension headache\", \"sinusitis\"],\n",
    "    \"fever\": [\"common cold\", \"flu\", \"infection\", \"strep throat\"],\n",
    "    \"cough\": [\"common cold\", \"flu\", \"bronchitis\", \"pneumonia\", \"allergies\"],\n",
    "    \"sneezing\": [\"common cold\", \"flu\", \"allergies\"],\n",
    "    \"fatigue\": [\"common cold\", \"flu\", \"stress\", \"lack of sleep\", \"anemia\"],\n",
    "    \"nausea\": [\"flu\", \"food poisoning\", \"stomach virus\", \"migraine\", \"pregnancy\"],\n",
    "    \"vomiting\": [\"flu\", \"food poisoning\", \"stomach virus\", \"motion sickness\"],\n",
    "    \"diarrhea\": [\"stomach virus\", \"food poisoning\", \"irritable bowel syndrome\", \"lactose intolerance\"],\n",
    "    \"rash\": [\"allergies\", \"chickenpox\", \"measles\", \"eczema\", \"poison ivy\"],\n",
    "    \"dizziness\": [\"dehydration\", \"inner ear infection\", \"low blood sugar\", \"vertigo\"],\n",
    "    \"weakness\": [\"muscle strain\", \"flu\", \"electrolyte imbalance\", \"multiple sclerosis\"],\n",
    "    \"insomnia\": [\"stress\", \"anxiety\", \"depression\", \"sleep apnea\"],\n",
    "    \"itchy\": [\"allergies\", \"eczema\", \"dry skin\", \"psoriasis\"],\n",
    "    \"bloating\": [\"irritable bowel syndrome\", \"lactose intolerance\", \"food intolerance\", \"celiac disease\", \"constipation\"],\n",
    "    \"chills\": [\"flu\", \"common cold\", \"pneumonia\", \"infection\", \"sepsis\"],\n",
    "    \"constipation\": [\"irritable bowel syndrome\", \"dehydration\", \"lack of fiber\", \"medication side effects\", \"hypothyroidism\"],\n",
    "    \"sweating\": [\"anxiety\", \"menopause\", \"hyperthyroidism\", \"low blood sugar\", \"infection\"],\n",
    "    \"thirst\": [\"dehydration\", \"diabetes\", \"kidney problems\", \"medication side effects\"],\n",
    "    \"tremors\": [\"anxiety\", \"Parkinson's disease\", \"multiple sclerosis\", \"alcohol withdrawal\", \"low blood sugar\"],\n",
    "    \"weight gain\": [\"thyroid disorders\", \"diabetes\", \"depression\", \"eating disorders\", \"certain medications\"],\n",
    "    \"weight loss\": [\"thyroid disorders\", \"diabetes\", \"depression\", \"eating disorders\", \"cancer\", \"certain medications\"],\n",
    "    \"burning\": [\"urinary tract infection\", \"heartburn\", \"acid reflux\", \"sunburn\", \"nerve pain\"],\n",
    "    \"cramps\": [\"menstrual cramps\", \"muscle cramps\", \"dehydration\", \"irritable bowel syndrome\"],\n",
    "    \"discharge\": [\"vaginal infection\", \"STI\", \"ear infection\"],\n",
    "    \"pain\": [\"arthritis\", \"injury\", \"infection\", \"nerve damage\", \"cancer\"],\n",
    "    \"swelling\": [\"injury\", \"inflammation\", \"infection\", \"lymphedema\", \"heart failure\"],\n",
    "    \"tingling\": [\"nerve damage\", \"vitamin deficiency\", \"multiple sclerosis\", \"diabetes\"]\n",
    "  },\n",
    "  \"recommendations\": {\n",
    "    \"common cold\": \"Rest, stay hydrated, and consider over-the-counter medications for symptom relief.\", \n",
    "    \"flu\": \"Rest, stay hydrated, and consider over-the-counter medications for symptom relief.\", \n",
    "    \"migraine\": \"Rest in a quiet, dark room. Apply a cold compress to your forehead. Consider over-the-counter pain relievers.\", \n",
    "    \"tension headache\": \"Apply a warm compress to your neck and shoulders. Practice stress management techniques. Consider over-the-counter pain relievers.\", \n",
    "    \"sinusitis\": \"Use a humidifier or saline nasal spray. Consider over-the-counter pain relievers and decongestants.\", \n",
    "    \"infection\": \"Consult a doctor for diagnosis and appropriate treatment, which may include antibiotics.\",\n",
    "    \"strep throat\": \"Consult a doctor for diagnosis and appropriate treatment, which usually involves antibiotics.\",\n",
    "    \"tonsillitis\": \"Gargle with salt water and drink warm liquids. Consider over-the-counter pain relievers.\", \n",
    "    \"allergies\": \"Identify and avoid allergens. Consider over-the-counter antihistamines.\", \n",
    "    \"bronchitis\": \"Rest, stay hydrated, and use a humidifier. Consider over-the-counter pain relievers and cough suppressants.\", \n",
    "    \"pneumonia\": \"Consult a doctor for diagnosis and appropriate treatment, which may include antibiotics.\",\n",
    "    \"muscle strain\": \"Rest the affected muscle, apply ice, and consider over-the-counter pain relievers.\", \n",
    "    \"stress\": \"Practice stress management techniques such as exercise, meditation, or deep breathing.\",\n",
    "    \"lack of sleep\": \"Aim for 7-9 hours of quality sleep per night. Establish a regular sleep schedule.\",\n",
    "    \"food poisoning\": \"Stay hydrated and rest. Consider over-the-counter medications for symptom relief.\", \n",
    "    \"stomach virus\": \"Stay hydrated and rest. Consider over-the-counter medications for symptom relief.\", \n",
    "    \"irritable bowel syndrome\": \"Consult a doctor for diagnosis and management strategies. Dietary changes and stress management may help.\",\n",
    "    \"chickenpox\": \"Consult a doctor for diagnosis and treatment. Isolate yourself to prevent spreading the virus.\",\n",
    "    \"measles\": \"Consult a doctor for diagnosis and treatment. Isolate yourself to prevent spreading the virus.\",\n",
    "    \"eczema\": \"Keep your skin moisturized. Avoid triggers that worsen your eczema.\", \n",
    "    \"asthma\": \"Use your prescribed inhaler as directed. Avoid triggers that worsen your asthma.\",\n",
    "    \"heart attack\": \"Seek immediate medical attention. Call emergency services or go to the nearest hospital.\",\n",
    "    \"angina\": \"Consult a doctor for diagnosis and treatment. Follow your doctor's recommendations for managing your condition.\",\n",
    "    \"anxiety\": \"Practice relaxation techniques such as deep breathing and meditation. Seek professional help if anxiety is persistent or severe.\",\n",
    "    \"appendicitis\": \"Seek immediate medical attention. Call emergency services or go to the nearest hospital.\",\n",
    "    \"stomach ulcer\": \"Consult a doctor for diagnosis and treatment. Avoid foods and medications that irritate your stomach.\",\n",
    "    \"menstrual cramps\": \"Apply heat to your lower abdomen. Consider over-the-counter pain relievers.\",\n",
    "    \"irritable bowel syndrome\": \"Consult a doctor for diagnosis and management strategies. Dietary changes and stress management may help.\",\n",
    "    \"lactose intolerance\": \"Avoid consuming lactose-containing products. Consider lactase supplements.\",\n",
    "    \"food intolerance\": \"Identify and avoid trigger foods. Consult a doctor or registered dietitian for guidance.\",\n",
    "    \"celiac disease\": \"Maintain a strict gluten-free diet. Consult a doctor or registered dietitian for management.\",\n",
    "    \"sepsis\": \"Seek immediate medical attention. Sepsis is a life-threatening condition.\",\n",
    "    \"hypothyroidism\": \"Consult a doctor for diagnosis and treatment, which typically involves hormone replacement therapy.\",\n",
    "    \"menopause\": \"Discuss hormone replacement therapy or other management options with your doctor. Manage symptoms with lifestyle changes.\",\n",
    "    \"hyperthyroidism\": \"Consult a doctor for diagnosis and treatment, which may include medication, radioactive iodine therapy, or surgery.\",\n",
    "    \"Parkinson's disease\": \"Consult a neurologist for diagnosis and a comprehensive treatment plan.\",\n",
    "    \"multiple sclerosis\": \"Consult a neurologist for diagnosis and a comprehensive treatment plan.\",\n",
    "    \"alcohol withdrawal\": \"Seek medical supervision for safe detoxification. Support groups and therapy can aid in recovery.\",\n",
    "    \"urinary tract infection\": \"Consult a doctor for diagnosis and treatment, which usually involves antibiotics.\",\n",
    "    \"heartburn\": \"Avoid trigger foods, eat smaller meals, and don't lie down immediately after eating. Consider over-the-counter antacids.\",\n",
    "    \"acid reflux\": \"Similar to heartburn, avoid trigger foods, eat smaller meals, and don't lie down immediately after eating. Consult a doctor if symptoms persist.\",\n",
    "    \"sunburn\": \"Apply cool compresses and aloe vera. Avoid further sun exposure. Use sunscreen regularly.\",\n",
    "    \"nerve pain\": \"Consult a doctor for diagnosis and treatment, which may include medication, physical therapy, or other therapies.\",\n",
    "    \"arthritis\": \"Consult a doctor for diagnosis and a treatment plan, which may include medication, physical therapy, and lifestyle changes.\",\n",
    "    \"lymphedema\": \"Consult a doctor or lymphedema specialist for management, which may include compression therapy and specialized exercises.\",\n",
    "    \"heart failure\": \"Consult a cardiologist for diagnosis and a comprehensive treatment plan, which may include medication, lifestyle changes, and other therapies.\",\n",
    "    \"vaginal infection\": \"Consult a doctor for diagnosis and treatment, which may depend on the type of infection.\",\n",
    "    \"STI\": \"Consult a doctor for diagnosis and treatment.\"\n",
    "  }\n",
    "}\n",
    "generate_json_file(medical_data, \"medical_data.json\")"
   ]
  },
  {
   "cell_type": "markdown",
   "metadata": {
    "deletable": false,
    "editable": false,
    "nbgrader": {
     "cell_type": "markdown",
     "checksum": "89688d455b149e33b6da467c6f81140d",
     "grade": false,
     "grade_id": "cell-1340cd320c0a6519",
     "locked": true,
     "schema_version": 3,
     "solution": false,
     "task": false
    }
   },
   "source": [
    "### Step 2.2: Load the data from the JSON knowledge base\n",
    "This file contains information about various symptoms, potential medical conditions, and general recommendations. Your chatbot will use this knowledge base to understand user input and provide helpful responses. The data could be loaded directly into a dictionary; however, this setup ensures modularity and will better translate if you want to further develop this project outside of the Jupyter environment in the future. \n",
    "\n",
    "Run the cell labeled **Step 2.2a** to load the knowledge base. The data will be displayed as a JSON dictionary."
   ]
  },
  {
   "cell_type": "markdown",
   "metadata": {
    "deletable": false,
    "editable": false,
    "nbgrader": {
     "cell_type": "markdown",
     "checksum": "1172979effec1801260423ed9c502170",
     "grade": false,
     "grade_id": "cell-8804dd5812d5877f",
     "locked": true,
     "schema_version": 3,
     "solution": false,
     "task": false
    }
   },
   "source": [
    "## Step 2.2a"
   ]
  },
  {
   "cell_type": "code",
   "execution_count": 4,
   "metadata": {
    "deletable": false,
    "editable": false,
    "nbgrader": {
     "cell_type": "code",
     "checksum": "4683dd2e3f1fbcbcae4c2688d08f1386",
     "grade": false,
     "grade_id": "cell-b8de6cea976cf2a7",
     "locked": true,
     "schema_version": 3,
     "solution": false,
     "task": false
    }
   },
   "outputs": [
    {
     "name": "stdout",
     "output_type": "stream",
     "text": [
      "{\n",
      "    \"symptoms\": {\n",
      "        \"headache\": [\n",
      "            \"common cold\",\n",
      "            \"flu\",\n",
      "            \"migraine\",\n",
      "            \"tension headache\",\n",
      "            \"sinusitis\"\n",
      "        ],\n",
      "        \"fever\": [\n",
      "            \"common cold\",\n",
      "            \"flu\",\n",
      "            \"infection\",\n",
      "            \"strep throat\"\n",
      "        ],\n",
      "        \"cough\": [\n",
      "            \"common cold\",\n",
      "            \"flu\",\n",
      "            \"bronchitis\",\n",
      "            \"pneumonia\",\n",
      "            \"allergies\"\n",
      "        ],\n",
      "        \"sneezing\": [\n",
      "            \"common cold\",\n",
      "            \"flu\",\n",
      "            \"allergies\"\n",
      "        ],\n",
      "        \"fatigue\": [\n",
      "            \"common cold\",\n",
      "            \"flu\",\n",
      "            \"stress\",\n",
      "            \"lack of sleep\",\n",
      "            \"anemia\"\n",
      "        ],\n",
      "        \"nausea\": [\n",
      "            \"flu\",\n",
      "            \"food poisoning\",\n",
      "            \"stomach virus\",\n",
      "            \"migraine\",\n",
      "            \"pregnancy\"\n",
      "        ],\n",
      "        \"vomiting\": [\n",
      "            \"flu\",\n",
      "            \"food poisoning\",\n",
      "            \"stomach virus\",\n",
      "            \"motion sickness\"\n",
      "        ],\n",
      "        \"diarrhea\": [\n",
      "            \"stomach virus\",\n",
      "            \"food poisoning\",\n",
      "            \"irritable bowel syndrome\",\n",
      "            \"lactose intolerance\"\n",
      "        ],\n",
      "        \"rash\": [\n",
      "            \"allergies\",\n",
      "            \"chickenpox\",\n",
      "            \"measles\",\n",
      "            \"eczema\",\n",
      "            \"poison ivy\"\n",
      "        ],\n",
      "        \"dizziness\": [\n",
      "            \"dehydration\",\n",
      "            \"inner ear infection\",\n",
      "            \"low blood sugar\",\n",
      "            \"vertigo\"\n",
      "        ],\n",
      "        \"weakness\": [\n",
      "            \"muscle strain\",\n",
      "            \"flu\",\n",
      "            \"electrolyte imbalance\",\n",
      "            \"multiple sclerosis\"\n",
      "        ],\n",
      "        \"insomnia\": [\n",
      "            \"stress\",\n",
      "            \"anxiety\",\n",
      "            \"depression\",\n",
      "            \"sleep apnea\"\n",
      "        ],\n",
      "        \"itchy\": [\n",
      "            \"allergies\",\n",
      "            \"eczema\",\n",
      "            \"dry skin\",\n",
      "            \"psoriasis\"\n",
      "        ],\n",
      "        \"bloating\": [\n",
      "            \"irritable bowel syndrome\",\n",
      "            \"lactose intolerance\",\n",
      "            \"food intolerance\",\n",
      "            \"celiac disease\",\n",
      "            \"constipation\"\n",
      "        ],\n",
      "        \"chills\": [\n",
      "            \"flu\",\n",
      "            \"common cold\",\n",
      "            \"pneumonia\",\n",
      "            \"infection\",\n",
      "            \"sepsis\"\n",
      "        ],\n",
      "        \"constipation\": [\n",
      "            \"irritable bowel syndrome\",\n",
      "            \"dehydration\",\n",
      "            \"lack of fiber\",\n",
      "            \"medication side effects\",\n",
      "            \"hypothyroidism\"\n",
      "        ],\n",
      "        \"sweating\": [\n",
      "            \"anxiety\",\n",
      "            \"menopause\",\n",
      "            \"hyperthyroidism\",\n",
      "            \"low blood sugar\",\n",
      "            \"infection\"\n",
      "        ],\n",
      "        \"thirst\": [\n",
      "            \"dehydration\",\n",
      "            \"diabetes\",\n",
      "            \"kidney problems\",\n",
      "            \"medication side effects\"\n",
      "        ],\n",
      "        \"tremors\": [\n",
      "            \"anxiety\",\n",
      "            \"Parkinson's disease\",\n",
      "            \"multiple sclerosis\",\n",
      "            \"alcohol withdrawal\",\n",
      "            \"low blood sugar\"\n",
      "        ],\n",
      "        \"weight gain\": [\n",
      "            \"thyroid disorders\",\n",
      "            \"diabetes\",\n",
      "            \"depression\",\n",
      "            \"eating disorders\",\n",
      "            \"certain medications\"\n",
      "        ],\n",
      "        \"weight loss\": [\n",
      "            \"thyroid disorders\",\n",
      "            \"diabetes\",\n",
      "            \"depression\",\n",
      "            \"eating disorders\",\n",
      "            \"cancer\",\n",
      "            \"certain medications\"\n",
      "        ],\n",
      "        \"burning\": [\n",
      "            \"urinary tract infection\",\n",
      "            \"heartburn\",\n",
      "            \"acid reflux\",\n",
      "            \"sunburn\",\n",
      "            \"nerve pain\"\n",
      "        ],\n",
      "        \"cramps\": [\n",
      "            \"menstrual cramps\",\n",
      "            \"muscle cramps\",\n",
      "            \"dehydration\",\n",
      "            \"irritable bowel syndrome\"\n",
      "        ],\n",
      "        \"discharge\": [\n",
      "            \"vaginal infection\",\n",
      "            \"STI\",\n",
      "            \"ear infection\"\n",
      "        ],\n",
      "        \"pain\": [\n",
      "            \"arthritis\",\n",
      "            \"injury\",\n",
      "            \"infection\",\n",
      "            \"nerve damage\",\n",
      "            \"cancer\"\n",
      "        ],\n",
      "        \"swelling\": [\n",
      "            \"injury\",\n",
      "            \"inflammation\",\n",
      "            \"infection\",\n",
      "            \"lymphedema\",\n",
      "            \"heart failure\"\n",
      "        ],\n",
      "        \"tingling\": [\n",
      "            \"nerve damage\",\n",
      "            \"vitamin deficiency\",\n",
      "            \"multiple sclerosis\",\n",
      "            \"diabetes\"\n",
      "        ]\n",
      "    },\n",
      "    \"recommendations\": {\n",
      "        \"common cold\": \"Rest, stay hydrated, and consider over-the-counter medications for symptom relief.\",\n",
      "        \"flu\": \"Rest, stay hydrated, and consider over-the-counter medications for symptom relief.\",\n",
      "        \"migraine\": \"Rest in a quiet, dark room. Apply a cold compress to your forehead. Consider over-the-counter pain relievers.\",\n",
      "        \"tension headache\": \"Apply a warm compress to your neck and shoulders. Practice stress management techniques. Consider over-the-counter pain relievers.\",\n",
      "        \"sinusitis\": \"Use a humidifier or saline nasal spray. Consider over-the-counter pain relievers and decongestants.\",\n",
      "        \"infection\": \"Consult a doctor for diagnosis and appropriate treatment, which may include antibiotics.\",\n",
      "        \"strep throat\": \"Consult a doctor for diagnosis and appropriate treatment, which usually involves antibiotics.\",\n",
      "        \"tonsillitis\": \"Gargle with salt water and drink warm liquids. Consider over-the-counter pain relievers.\",\n",
      "        \"allergies\": \"Identify and avoid allergens. Consider over-the-counter antihistamines.\",\n",
      "        \"bronchitis\": \"Rest, stay hydrated, and use a humidifier. Consider over-the-counter pain relievers and cough suppressants.\",\n",
      "        \"pneumonia\": \"Consult a doctor for diagnosis and appropriate treatment, which may include antibiotics.\",\n",
      "        \"muscle strain\": \"Rest the affected muscle, apply ice, and consider over-the-counter pain relievers.\",\n",
      "        \"stress\": \"Practice stress management techniques such as exercise, meditation, or deep breathing.\",\n",
      "        \"lack of sleep\": \"Aim for 7-9 hours of quality sleep per night. Establish a regular sleep schedule.\",\n",
      "        \"food poisoning\": \"Stay hydrated and rest. Consider over-the-counter medications for symptom relief.\",\n",
      "        \"stomach virus\": \"Stay hydrated and rest. Consider over-the-counter medications for symptom relief.\",\n",
      "        \"irritable bowel syndrome\": \"Consult a doctor for diagnosis and management strategies. Dietary changes and stress management may help.\",\n",
      "        \"chickenpox\": \"Consult a doctor for diagnosis and treatment. Isolate yourself to prevent spreading the virus.\",\n",
      "        \"measles\": \"Consult a doctor for diagnosis and treatment. Isolate yourself to prevent spreading the virus.\",\n",
      "        \"eczema\": \"Keep your skin moisturized. Avoid triggers that worsen your eczema.\",\n",
      "        \"asthma\": \"Use your prescribed inhaler as directed. Avoid triggers that worsen your asthma.\",\n",
      "        \"heart attack\": \"Seek immediate medical attention. Call emergency services or go to the nearest hospital.\",\n",
      "        \"angina\": \"Consult a doctor for diagnosis and treatment. Follow your doctor's recommendations for managing your condition.\",\n",
      "        \"anxiety\": \"Practice relaxation techniques such as deep breathing and meditation. Seek professional help if anxiety is persistent or severe.\",\n",
      "        \"appendicitis\": \"Seek immediate medical attention. Call emergency services or go to the nearest hospital.\",\n",
      "        \"stomach ulcer\": \"Consult a doctor for diagnosis and treatment. Avoid foods and medications that irritate your stomach.\",\n",
      "        \"menstrual cramps\": \"Apply heat to your lower abdomen. Consider over-the-counter pain relievers.\",\n",
      "        \"lactose intolerance\": \"Avoid consuming lactose-containing products. Consider lactase supplements.\",\n",
      "        \"food intolerance\": \"Identify and avoid trigger foods. Consult a doctor or registered dietitian for guidance.\",\n",
      "        \"celiac disease\": \"Maintain a strict gluten-free diet. Consult a doctor or registered dietitian for management.\",\n",
      "        \"sepsis\": \"Seek immediate medical attention. Sepsis is a life-threatening condition.\",\n",
      "        \"hypothyroidism\": \"Consult a doctor for diagnosis and treatment, which typically involves hormone replacement therapy.\",\n",
      "        \"menopause\": \"Discuss hormone replacement therapy or other management options with your doctor. Manage symptoms with lifestyle changes.\",\n",
      "        \"hyperthyroidism\": \"Consult a doctor for diagnosis and treatment, which may include medication, radioactive iodine therapy, or surgery.\",\n",
      "        \"Parkinson's disease\": \"Consult a neurologist for diagnosis and a comprehensive treatment plan.\",\n",
      "        \"multiple sclerosis\": \"Consult a neurologist for diagnosis and a comprehensive treatment plan.\",\n",
      "        \"alcohol withdrawal\": \"Seek medical supervision for safe detoxification. Support groups and therapy can aid in recovery.\",\n",
      "        \"urinary tract infection\": \"Consult a doctor for diagnosis and treatment, which usually involves antibiotics.\",\n",
      "        \"heartburn\": \"Avoid trigger foods, eat smaller meals, and don't lie down immediately after eating. Consider over-the-counter antacids.\",\n",
      "        \"acid reflux\": \"Similar to heartburn, avoid trigger foods, eat smaller meals, and don't lie down immediately after eating. Consult a doctor if symptoms persist.\",\n",
      "        \"sunburn\": \"Apply cool compresses and aloe vera. Avoid further sun exposure. Use sunscreen regularly.\",\n",
      "        \"nerve pain\": \"Consult a doctor for diagnosis and treatment, which may include medication, physical therapy, or other therapies.\",\n",
      "        \"arthritis\": \"Consult a doctor for diagnosis and a treatment plan, which may include medication, physical therapy, and lifestyle changes.\",\n",
      "        \"lymphedema\": \"Consult a doctor or lymphedema specialist for management, which may include compression therapy and specialized exercises.\",\n",
      "        \"heart failure\": \"Consult a cardiologist for diagnosis and a comprehensive treatment plan, which may include medication, lifestyle changes, and other therapies.\",\n",
      "        \"vaginal infection\": \"Consult a doctor for diagnosis and treatment, which may depend on the type of infection.\",\n",
      "        \"STI\": \"Consult a doctor for diagnosis and treatment.\"\n",
      "    }\n",
      "}\n"
     ]
    }
   ],
   "source": [
    "import spacy\n",
    "nlp = spacy.load(\"en_core_web_sm\")\n",
    "\n",
    "def print_json_from_file(filename):\n",
    "    \"\"\"Prints the contents of a JSON file to the console with indentation.\"\"\"\n",
    "    try:\n",
    "        with open(filename, 'r') as f:\n",
    "            data = json.load(f)  # Load the JSON data\n",
    "            print(json.dumps(data, indent=4)) # Print with indentation\n",
    "    except FileNotFoundError:\n",
    "        print(f\"Error: File '{filename}' not found.\")\n",
    "    except json.JSONDecodeError:\n",
    "        print(f\"Error: Invalid JSON format in '{filename}'.\")\n",
    "    except Exception as e:  # Catch any other potential errors\n",
    "        print(f\"An error occurred: {e}\")\n",
    "print_json_from_file(\"medical_data.json\")"
   ]
  },
  {
   "cell_type": "markdown",
   "metadata": {
    "deletable": false,
    "editable": false,
    "nbgrader": {
     "cell_type": "markdown",
     "checksum": "d0670c7a5b6b1183e77c6fffd248b617",
     "grade": false,
     "grade_id": "cell-53001ce6b0f10df5",
     "locked": true,
     "schema_version": 3,
     "solution": false,
     "task": false
    }
   },
   "source": [
    "## Step 3: Develop the chatbot logic\n",
    "Now it's time to build the core logic of your medical diagnosis assistant chatbot. You'll use `spaCy` to process user input, extract symptoms, and provide relevant responses based on the medical knowledge base."
   ]
  },
  {
   "cell_type": "markdown",
   "metadata": {
    "deletable": false,
    "editable": false,
    "nbgrader": {
     "cell_type": "markdown",
     "checksum": "038e77345e634b31cf0677bf1bba96a6",
     "grade": false,
     "grade_id": "cell-ac2d1162a9d740e2",
     "locked": true,
     "schema_version": 3,
     "solution": false,
     "task": false
    }
   },
   "source": [
    "### Step 3.1: Extract the symptoms\n",
    "The `extract_symptoms` function will process the user's input using `spaCy` to identify individual symptoms. It will iterate through each word (or token) in the input and check if its lowercase form matches any known symptom in the medical knowledge base. To avoid duplicates, it ensures that each symptom is added to the `extracted_symptoms` list only once. Finally, the function returns a list of unique symptoms found in the user's input.\n",
    "\n",
    "The code to process the `user_input` and initialize and then return the extracted symptoms has been provided. In the middle of the function locate the section labeled `### YOUR CODE HERE ###`.\n",
    "\n",
    "Hints:\n",
    " - Locate the area in **Step 3.1a** labeled `### YOUR CODE HERE ###`\n",
    " - You will need four lines of code to complete this function.\n",
    " - Sample code for testing purposes is provided at the bottom of the cell. This can be uncommented for testing purposes.\n",
    " - You can use a `for` loop to iterate through the tokens in the doc object.\n",
    " - The `.text` attribute of a token gives you the text of the token.\n",
    " - The `.lower()` method can be used to convert a string to lowercase.\n",
    " - The `in` operator can be used to check if a value exists in a dictionary or a list."
   ]
  },
  {
   "cell_type": "markdown",
   "metadata": {
    "deletable": false,
    "editable": false,
    "nbgrader": {
     "cell_type": "markdown",
     "checksum": "114c502bccbab3f2dda7a01a852ac367",
     "grade": false,
     "grade_id": "cell-1ff83ccb5a9b8676",
     "locked": true,
     "schema_version": 3,
     "solution": false,
     "task": false
    }
   },
   "source": [
    "### Step 3.1a"
   ]
  },
  {
   "cell_type": "code",
   "execution_count": 6,
   "metadata": {},
   "outputs": [
    {
     "name": "stdout",
     "output_type": "stream",
     "text": [
      "['headache', 'fever']\n"
     ]
    }
   ],
   "source": [
    "\n",
    "\n",
    "def extract_symptoms(user_input):\n",
    "    \"\"\"Extracts symptoms from user input using spaCy.\"\"\"\n",
    "    doc = nlp(user_input)\n",
    "    extracted_symptoms = []\n",
    "    for token in doc:\n",
    "        if token.text in medical_data[\"symptoms\"]:\n",
    "            if token.text not in extracted_symptoms:\n",
    "                extracted_symptoms.append(token.text)\n",
    "\n",
    "    return extracted_symptoms\n",
    "\n",
    "user_input = \"I have a headache and a fever.\"\n",
    "user_symptoms = extract_symptoms(user_input)\n",
    "print(user_symptoms)"
   ]
  },
  {
   "cell_type": "code",
   "execution_count": null,
   "metadata": {
    "deletable": false,
    "editable": false,
    "nbgrader": {
     "cell_type": "code",
     "checksum": "798c1e2ed18907d5f6e40d611dc605e3",
     "grade": true,
     "grade_id": "cell-a4260876a0c54820",
     "locked": true,
     "points": 2,
     "schema_version": 3,
     "solution": false,
     "task": false
    }
   },
   "outputs": [],
   "source": [
    "# Checking your Results\n"
   ]
  },
  {
   "cell_type": "markdown",
   "metadata": {
    "deletable": false,
    "editable": false,
    "nbgrader": {
     "cell_type": "markdown",
     "checksum": "8d131a62f52fdf08b2e2bdc2cb13f03b",
     "grade": false,
     "grade_id": "cell-1cfb44d0871b5616",
     "locked": true,
     "schema_version": 3,
     "solution": false,
     "task": false
    }
   },
   "source": [
    "## Step 3.2: Analyze the symptoms\n",
    "The `analyze_symptoms` function takes a list of extracted symptoms and determines the possible medical conditions associated with those symptoms.  It uses the `medical_data` dictionary to look up the conditions linked to each symptom. For every symptom provided, it iterates through the corresponding list of potential conditions and tallies how often each condition appears. The function ultimately returns a dictionary containing each possible condition along with a count of how many input symptoms are associated with it. This count helps determine the likelihood of each condition. \n",
    "Hints:\n",
    " - Locate the area in **Step 3.2a** labeled `### YOUR CODE HERE ###`\n",
    " - You will need five lines of code to complete this function.\n",
    " - Sample code for testing purposes is provided in the *# Checking your Results* cell below.\n",
    " - This step involves a `for` loop, followed by an if statement, followed by another if statement, plus one other line of code.\n",
    " - You can use a `for` loop to iterate through the `extracted_symptoms` list and the list of conditions for each symptom.\n",
    " - The `in` operator can be used to check if a key exists in a dictionary.\n",
    " - Example: If the `extracted_symptoms` list is `[\"headache\", \"fever\"]`, the code should analyze these symptoms based on the `medical_data` and return a dictionary like this:\n",
    " \n",
    "```\n",
    "{\n",
    "\t\"common cold\": 2,\t\t# headache and fever match common cold\n",
    "\t\"flu\": 2,\t\t\t\t# headache and fever match flu\n",
    "\t\"migraine\": 1,\t\t\t# headache matches migraine\n",
    "\t\"tension headache\": 1,  # headache matches tension headache\n",
    "\t\"sinusitis\": 1,\t\t\t# Only headache matches sinusitis\n",
    "\t\"infection\": 1,\t\t\t# Only fever matches infection\n",
    "\t\"strep throat\": 1\t\t# Only fever matches strep throat\n",
    "}\n",
    "```\n",
    " - The goal is to count how many times each possible condition appears across the given symptoms.\n",
    " - The `possible_conditions` dictionary should contain the conditions as keys and their counts as values.\n"
   ]
  },
  {
   "cell_type": "markdown",
   "metadata": {
    "deletable": false,
    "editable": false,
    "nbgrader": {
     "cell_type": "markdown",
     "checksum": "58f521085bfeafb55394100937dd9a0a",
     "grade": false,
     "grade_id": "cell-c06a7951fb826e72",
     "locked": true,
     "schema_version": 3,
     "solution": false,
     "task": false
    }
   },
   "source": [
    "## Step 3.2a"
   ]
  },
  {
   "cell_type": "code",
   "execution_count": 9,
   "metadata": {},
   "outputs": [],
   "source": [
    "def analyze_symptoms(extracted_symptoms):\n",
    "    \"\"\"Analyzes symptoms and returns possible conditions with counts.\"\"\"\n",
    "    possible_conditions = {}  # Use a dictionary to count occurrences\n",
    "    for symptom in extracted_symptoms:\n",
    "        if symptom in medical_data['symptoms']:\n",
    "            for condition in medical_data['symptoms'][symptom]:\n",
    "                if condition in possible_conditions:\n",
    "                    possible_conditions[condition] += 1\n",
    "                else:\n",
    "                    possible_conditions[condition] = 1\n",
    "            \n",
    "\n",
    "    return possible_conditions"
   ]
  },
  {
   "cell_type": "code",
   "execution_count": 10,
   "metadata": {
    "deletable": false,
    "editable": false,
    "nbgrader": {
     "cell_type": "code",
     "checksum": "1378de448dd0472f4c2fc4dcd7b5692c",
     "grade": true,
     "grade_id": "cell-03c5bf4edf67f6f7",
     "locked": true,
     "points": 2,
     "schema_version": 3,
     "solution": false,
     "task": false
    }
   },
   "outputs": [
    {
     "name": "stdout",
     "output_type": "stream",
     "text": [
      "['headache', 'fever']\n",
      "{'common cold': 2, 'flu': 2, 'migraine': 1, 'tension headache': 1, 'sinusitis': 1, 'infection': 1, 'strep throat': 1}\n"
     ]
    }
   ],
   "source": [
    "# Checking your Results\n",
    "extracted_symptoms = [\"headache\", \"fever\"]  \n",
    "possible_conditions = analyze_symptoms(extracted_symptoms)\n",
    "print(extracted_symptoms)\n",
    "print(possible_conditions)\n"
   ]
  },
  {
   "cell_type": "markdown",
   "metadata": {
    "deletable": false,
    "editable": false,
    "nbgrader": {
     "cell_type": "markdown",
     "checksum": "434f9497d0f5e9c3081283bb1f603ac0",
     "grade": false,
     "grade_id": "cell-5daf7f442d648d29",
     "locked": true,
     "schema_version": 3,
     "solution": false,
     "task": false
    }
   },
   "source": [
    "## Step 3.3: Generate responses\n",
    "\n",
    "The `generate_response` function takes the extracted symptoms and possible conditions as input and constructs a response for the user. If no symptoms are recognized, it informs the user. Otherwise, it acknowledges the symptoms and, if applicable, presents the possible conditions sorted by their likelihood, along with corresponding recommendations from the medical knowledge base. If no matching conditions are found, it informs the user accordingly. Finally, it adds a disclaimer advising the user to consult a doctor for definitive medical advice.\n",
    "\n",
    "Hints:\n",
    " - Locate the area in **Step 3.3a** labeled `### YOUR CODE HERE ###`\n",
    " - You will need five lines of code to complete this function.\n",
    " - Sample code for testing purposes is provided in the *# Checking your Results* cell below.\n",
    " - The `items()` method of a dictionary can be used to iterate through its key-value pairs.\n",
    " - The in operator can be used to check if a key exists in a dictionary.\n",
    " - Example: If the `possible_conditions` dictionary is:\n",
    "```\n",
    "\t{\n",
    "\t\t\"common cold\": 2,\n",
    "\t\t\"flu\": 2,\n",
    "\t\t\"migraine\": 1\n",
    "\t}\n",
    "```\n",
    " - The code should generate a response like this:\n",
    "\n",
    "```\n",
    "Based on your symptoms, the most likely possibilities are:\n",
    "\t- common cold (2 matching symptom(s))\n",
    "\t\t* Rest, stay hydrated, and consider over-the-counter medications for symptom relief.\n",
    "\t- flu (2 matching symptom(s))\n",
    "\t\t* Rest, stay hydrated, and consider over-the-counter medications for symptom relief.\n",
    "\t- migraine (1 matching symptom(s))\n",
    "\t\t* Rest in a quiet, dark room. Apply a cold compress to your forehead. Consider over-the-counter pain relievers.\n",
    "```\n"
   ]
  },
  {
   "cell_type": "markdown",
   "metadata": {
    "deletable": false,
    "editable": false,
    "nbgrader": {
     "cell_type": "markdown",
     "checksum": "e191472ff01590003877a8b665955df3",
     "grade": false,
     "grade_id": "cell-4ea6521016756cbe",
     "locked": true,
     "schema_version": 3,
     "solution": false,
     "task": false
    }
   },
   "source": [
    "### Step 3.3a"
   ]
  },
  {
   "cell_type": "code",
   "execution_count": 11,
   "metadata": {},
   "outputs": [],
   "source": [
    "def generate_response(extracted_symptoms, possible_conditions):\n",
    "    \"\"\"Generates a response based on extracted symptoms and possible conditions.\"\"\"\n",
    "    response = \"\"\n",
    "    if extracted_symptoms:\n",
    "        response += \"I understand you have \" + \", \".join(extracted_symptoms) + \".\"  \n",
    "        response += \"\\nBased on your symptoms, the most likely possibilities are:\"\n",
    "\n",
    "        if possible_conditions:\n",
    "            sorted_conditions = sorted(possible_conditions.items(), key=lambda item: item[1], reverse=True)  # Sort by count\n",
    "            for condition, count in sorted_conditions:\n",
    "                response += f\"\\n- {condition} ({count} matching symptom(s))\"\n",
    "                if condition in medical_data[\"recommendations\"]:\n",
    "                    response += f\"\\n * {medical_data['recommendations'][condition]}\"                  \n",
    "                \n",
    "\n",
    "        else:\n",
    "            response += \"\\nI'm sorry, I don't recognize those symptoms.\\n\" \n",
    "    else:\n",
    "        response = \"I'm sorry, I didn't recognize any symptoms in your description.\" \n",
    "\n",
    "    response += \"Remember, I am just a chatbot and cannot provide definitive medical advice. Please consult a doctor for proper diagnosis and treatment.\"\n",
    "    return response"
   ]
  },
  {
   "cell_type": "code",
   "execution_count": 12,
   "metadata": {
    "deletable": false,
    "editable": false,
    "nbgrader": {
     "cell_type": "code",
     "checksum": "85975da886cb48c7c43c272cb8150e38",
     "grade": true,
     "grade_id": "cell-03e9932d226b60f6",
     "locked": true,
     "points": 1,
     "schema_version": 3,
     "solution": false,
     "task": false
    }
   },
   "outputs": [
    {
     "name": "stdout",
     "output_type": "stream",
     "text": [
      "I understand you have headache, fever.\n",
      "Based on your symptoms, the most likely possibilities are:\n",
      "- common cold (2 matching symptom(s))\n",
      " * Rest, stay hydrated, and consider over-the-counter medications for symptom relief.\n",
      "- flu (2 matching symptom(s))\n",
      " * Rest, stay hydrated, and consider over-the-counter medications for symptom relief.\n",
      "- migraine (1 matching symptom(s))\n",
      " * Rest in a quiet, dark room. Apply a cold compress to your forehead. Consider over-the-counter pain relievers.Remember, I am just a chatbot and cannot provide definitive medical advice. Please consult a doctor for proper diagnosis and treatment.\n"
     ]
    }
   ],
   "source": [
    "# Checking your Results\n",
    "extracted_symptoms = [\"headache\", \"fever\"]\n",
    "possible_conditions = {\n",
    "    \"common cold\": 2,\n",
    "    \"flu\": 2,\n",
    "    \"migraine\": 1\n",
    "}\n",
    "print(generate_response(extracted_symptoms, possible_conditions))\n",
    "# Test for header"
   ]
  },
  {
   "cell_type": "code",
   "execution_count": null,
   "metadata": {
    "deletable": false,
    "editable": false,
    "nbgrader": {
     "cell_type": "code",
     "checksum": "dc4cc21c9689dc049922b51e59880f84",
     "grade": true,
     "grade_id": "cell-ea9f4c283b95b083",
     "locked": true,
     "points": 1,
     "schema_version": 3,
     "solution": false,
     "task": false
    }
   },
   "outputs": [],
   "source": [
    "# Test for common cold"
   ]
  },
  {
   "cell_type": "code",
   "execution_count": null,
   "metadata": {
    "deletable": false,
    "editable": false,
    "nbgrader": {
     "cell_type": "code",
     "checksum": "e3506a5379684e95445b0351d0b051ab",
     "grade": true,
     "grade_id": "cell-941f42c7385817f8",
     "locked": true,
     "points": 1,
     "schema_version": 3,
     "solution": false,
     "task": false
    }
   },
   "outputs": [],
   "source": [
    "# Test for flu"
   ]
  },
  {
   "cell_type": "code",
   "execution_count": null,
   "metadata": {
    "deletable": false,
    "editable": false,
    "nbgrader": {
     "cell_type": "code",
     "checksum": "3adef450904059254acefcfc0d8a7d84",
     "grade": true,
     "grade_id": "cell-71aa0ff73ae869aa",
     "locked": true,
     "points": 1,
     "schema_version": 3,
     "solution": false,
     "task": false
    }
   },
   "outputs": [],
   "source": [
    "# Test for migraine"
   ]
  },
  {
   "cell_type": "code",
   "execution_count": null,
   "metadata": {
    "deletable": false,
    "editable": false,
    "nbgrader": {
     "cell_type": "code",
     "checksum": "26d5772d8505c109dd342c4ed4847acd",
     "grade": true,
     "grade_id": "cell-b288bfa8baa5c4a6",
     "locked": true,
     "points": 1,
     "schema_version": 3,
     "solution": false,
     "task": false
    }
   },
   "outputs": [],
   "source": [
    "# Test for disclaimer"
   ]
  },
  {
   "cell_type": "markdown",
   "metadata": {
    "deletable": false,
    "editable": false,
    "nbgrader": {
     "cell_type": "markdown",
     "checksum": "37c898da4ccfe3e078458fab5ecac035",
     "grade": false,
     "grade_id": "cell-058df3e1317a9a86",
     "locked": true,
     "schema_version": 3,
     "solution": false,
     "task": false
    }
   },
   "source": [
    "## Step 3.4: Test the program\n",
    "\n",
    "Run the cell for Step **3.4a**. No changes are necessary to this cell. Ensure you are able to get a diagnosis."
   ]
  },
  {
   "cell_type": "markdown",
   "metadata": {
    "deletable": false,
    "editable": false,
    "nbgrader": {
     "cell_type": "markdown",
     "checksum": "4c76c73cb627382be31cfd82d5001bed",
     "grade": false,
     "grade_id": "cell-57512b689a73fe8e",
     "locked": true,
     "schema_version": 3,
     "solution": false,
     "task": false
    }
   },
   "source": [
    "### Step 3.4a"
   ]
  },
  {
   "cell_type": "code",
   "execution_count": 13,
   "metadata": {
    "deletable": false,
    "editable": false,
    "nbgrader": {
     "cell_type": "code",
     "checksum": "28f9779ed7d68ac0aea17504efa686dd",
     "grade": false,
     "grade_id": "cell-2d363723b32521da",
     "locked": true,
     "schema_version": 3,
     "solution": false,
     "task": false
    }
   },
   "outputs": [
    {
     "name": "stdout",
     "output_type": "stream",
     "text": [
      "Please enter your primary concern: i have feeling headache\n",
      "Chatbot: I understand you have headache.\n",
      "Based on your symptoms, the most likely possibilities are:\n",
      "- common cold (1 matching symptom(s))\n",
      " * Rest, stay hydrated, and consider over-the-counter medications for symptom relief.\n",
      "- flu (1 matching symptom(s))\n",
      " * Rest, stay hydrated, and consider over-the-counter medications for symptom relief.\n",
      "- migraine (1 matching symptom(s))\n",
      " * Rest in a quiet, dark room. Apply a cold compress to your forehead. Consider over-the-counter pain relievers.\n",
      "- tension headache (1 matching symptom(s))\n",
      " * Apply a warm compress to your neck and shoulders. Practice stress management techniques. Consider over-the-counter pain relievers.\n",
      "- sinusitis (1 matching symptom(s))\n",
      " * Use a humidifier or saline nasal spray. Consider over-the-counter pain relievers and decongestants.Remember, I am just a chatbot and cannot provide definitive medical advice. Please consult a doctor for proper diagnosis and treatment.\n"
     ]
    }
   ],
   "source": [
    "possible_conditions = []\n",
    "extracted_symptoms = []\n",
    "\n",
    "# Get user's symptoms\n",
    "user_input = input(\"Please enter your primary concern: \")\n",
    "\n",
    "# Extract symptoms\n",
    "extracted_symptoms = extract_symptoms(user_input)\n",
    "\n",
    "# Analyze symptoms\n",
    "possible_conditions = analyze_symptoms(extracted_symptoms)\n",
    "\n",
    "# Generate initial response\n",
    "response = generate_response(extracted_symptoms, possible_conditions)\n",
    "print(\"Chatbot:\", response)"
   ]
  },
  {
   "cell_type": "markdown",
   "metadata": {
    "deletable": false,
    "editable": false,
    "nbgrader": {
     "cell_type": "markdown",
     "checksum": "fd69b8c23155cc99566cc3265f012643",
     "grade": false,
     "grade_id": "cell-01768acf0afafc79",
     "locked": true,
     "schema_version": 3,
     "solution": false,
     "task": false
    }
   },
   "source": [
    "## Step 4: Enhance the chatbot with multi-turn conversation\n",
    "\n",
    "Step 4 implements a loop that repeatedly asks the user for additional symptoms. Inside the loop, the chatbot takes the user's input and checks if they want to add more symptoms. If they do, it extracts any valid symptoms from their input and adds them to the list of extracted symptoms. It then re-analyzes the updated list of symptoms and generates a new response with the updated diagnosis and recommendations. If the user doesn't enter any new symptoms or enters an invalid symptom, the chatbot prompts them to try again. After the user finishes entering symptoms, the chatbot prints the final response with the complete diagnosis and recommendations."
   ]
  },
  {
   "cell_type": "markdown",
   "metadata": {
    "deletable": false,
    "editable": false,
    "nbgrader": {
     "cell_type": "markdown",
     "checksum": "f40c4d3033f1080d943fb871836c3594",
     "grade": false,
     "grade_id": "cell-6cddb91d754c635d",
     "locked": true,
     "schema_version": 3,
     "solution": false,
     "task": false
    }
   },
   "source": [
    "## Step 4.1: Complete multi-turn conversation\n",
    "\n",
    "Complete the code to better handle a multi-turn conversation.\n",
    "\n",
    "Hints:\n",
    " - Locate the area in **Step 4.1a** labeled `### YOUR CODE HERE ###`\n",
    " - You will need two lines of code to complete this function.\n",
    " - Update the diagnosis: After adding the `new_symptoms` to the `extracted_symptoms` list, you need to re-analyze the symptoms to update the possible conditions. Use the `analyze_symptoms()` function for this.\n",
    " - Generate a new response: After re-analyzing the symptoms, generate an updated response using the `generate_response()` function. Make sure to use the updated `extracted_symptoms` and `possible_conditions` as arguments.\n",
    " \n",
    "Run the cell to test the program.\n"
   ]
  },
  {
   "cell_type": "markdown",
   "metadata": {
    "deletable": false,
    "editable": false,
    "nbgrader": {
     "cell_type": "markdown",
     "checksum": "93fc2d3ff26d9a44b4e3678571d31ba6",
     "grade": false,
     "grade_id": "cell-6d29e5e8849d38ac",
     "locked": true,
     "schema_version": 3,
     "solution": false,
     "task": false
    }
   },
   "source": [
    "### Step 4.1a"
   ]
  },
  {
   "cell_type": "code",
   "execution_count": null,
   "metadata": {},
   "outputs": [
    {
     "name": "stdout",
     "output_type": "stream",
     "text": [
      "Please enter an additional symptom, or 'no' if you have no more: I am feeling pain in lower spinal cord\n",
      "Chatbot: I understand you have headache, pain.\n",
      "Based on your symptoms, the most likely possibilities are:\n",
      "- common cold (1 matching symptom(s))\n",
      " * Rest, stay hydrated, and consider over-the-counter medications for symptom relief.\n",
      "- flu (1 matching symptom(s))\n",
      " * Rest, stay hydrated, and consider over-the-counter medications for symptom relief.\n",
      "- migraine (1 matching symptom(s))\n",
      " * Rest in a quiet, dark room. Apply a cold compress to your forehead. Consider over-the-counter pain relievers.\n",
      "- tension headache (1 matching symptom(s))\n",
      " * Apply a warm compress to your neck and shoulders. Practice stress management techniques. Consider over-the-counter pain relievers.\n",
      "- sinusitis (1 matching symptom(s))\n",
      " * Use a humidifier or saline nasal spray. Consider over-the-counter pain relievers and decongestants.\n",
      "- arthritis (1 matching symptom(s))\n",
      " * Consult a doctor for diagnosis and a treatment plan, which may include medication, physical therapy, and lifestyle changes.\n",
      "- injury (1 matching symptom(s))\n",
      "- infection (1 matching symptom(s))\n",
      " * Consult a doctor for diagnosis and appropriate treatment, which may include antibiotics.\n",
      "- nerve damage (1 matching symptom(s))\n",
      "- cancer (1 matching symptom(s))Remember, I am just a chatbot and cannot provide definitive medical advice. Please consult a doctor for proper diagnosis and treatment.\n"
     ]
    }
   ],
   "source": [
    "while True:\n",
    "    additional_symptoms = input(\"Please enter an additional symptom, or 'no' if you have no more: \")\n",
    "    if additional_symptoms.lower() in (\"no\", \"nope\", \"none\"):\n",
    "        break  # Exit the loop if the user has no more symptoms\n",
    "\n",
    "    new_symptoms = extract_symptoms(additional_symptoms)\n",
    "    if new_symptoms:  # Only add and analyze if new symptoms are found\n",
    "        extracted_symptoms.extend(new_symptoms)\n",
    "        \n",
    "        possible_conditions = analyze_symptoms(extracted_symptoms)\n",
    "        response = generate_response(extracted_symptoms, possible_conditions)\n",
    "\n",
    "        print(\"Chatbot:\", response)  # Print the updated response\n",
    "    else:\n",
    "        print(\"Chatbot: I didn't recognize that symptom. Please try again.\")\n",
    "\n",
    "print(\"Chatbot:\", response)"
   ]
  },
  {
   "cell_type": "code",
   "execution_count": null,
   "metadata": {
    "deletable": false,
    "editable": false,
    "nbgrader": {
     "cell_type": "code",
     "checksum": "800b79e991ad543cd114da1f3fb5a5f7",
     "grade": true,
     "grade_id": "cell-2df89190aa3d7dfc",
     "locked": true,
     "points": 2,
     "schema_version": 3,
     "solution": false,
     "task": false
    }
   },
   "outputs": [],
   "source": [
    "# Checking your Results"
   ]
  },
  {
   "cell_type": "markdown",
   "metadata": {
    "deletable": false,
    "editable": false,
    "nbgrader": {
     "cell_type": "markdown",
     "checksum": "676acffd27b56845417c6e19f1a0b1b2",
     "grade": false,
     "grade_id": "cell-507f77c93aa7d706",
     "locked": true,
     "schema_version": 3,
     "solution": false,
     "task": false
    }
   },
   "source": [
    "## End of project and areas for improvement\n",
    "\n",
    "Congratulations on completing your medical diagnosis assistant chatbot! You've successfully built a chatbot that can:\n",
    " - Extract symptoms from user input using `spaCy`.\n",
    " - Analyze symptoms to identify potential medical conditions.\n",
    " - Provide basic recommendations and advice.\n",
    " - Engage in a multi-turn conversation.\n",
    "\n",
    "However, as with any real-world project, there's always room for improvement. Here are some areas you could explore to enhance your chatbot:\n",
    " - **More sophisticated diagnostic logic:** Consider implementing more advanced techniques like weighted symptoms, symptom combinations, or decision trees to improve the accuracy of the diagnosis. For example, you could assign higher weights to more severe symptoms or create rules to identify specific combinations of symptoms that indicate particular conditions.\n",
    " - **Contextual awareness:** Enhance the chatbot's ability to understand and utilize the context of the conversation to provide more relevant responses.\n",
    " - **User-specific information:** Incorporate user details like age, gender, and medical history to personalize the diagnosis and recommendations. For example, you could avoid suggesting \"menstrual cramps\" as a possible condition for a male user.\n",
    " - **Error handling:** Improve the chatbot's robustness by adding more comprehensive error handling for various scenarios, such as invalid input or missing data.\n",
    " - **External knowledge bases:** Explore integrating more extensive medical knowledge bases or ontologies to provide a wider range of diagnoses and more detailed information.\n",
    " - **Ethical considerations:** Continue to refine the chatbot's responses to ensure they are responsible, ethical, and prioritize the user's well-being. Always emphasize the importance of consulting a medical professional for accurate diagnosis and treatment.\n",
    " \n",
    "By exploring these areas for improvement, you can further develop your chatbot into a more sophisticated, reliable, and helpful tool for preliminary medical diagnosis.\n"
   ]
  }
 ],
 "metadata": {
  "kernelspec": {
   "display_name": "Python 3 (ipykernel)",
   "language": "python",
   "name": "python3"
  },
  "language_info": {
   "codemirror_mode": {
    "name": "ipython",
    "version": 3
   },
   "file_extension": ".py",
   "mimetype": "text/x-python",
   "name": "python",
   "nbconvert_exporter": "python",
   "pygments_lexer": "ipython3",
   "version": "3.10.6"
  }
 },
 "nbformat": 4,
 "nbformat_minor": 2
}
